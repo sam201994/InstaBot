{
 "cells": [
  {
   "cell_type": "markdown",
   "metadata": {},
   "source": [
    "### General functions\n",
    "\n",
    "Your friend has opened a new Food Blogging handle on Instagram and wants to get famous. He wants to follow a lot of people so that he can get noticed quickly but it is a tedious task so he asks you to help him. As you have just learned automation using Selenium, you decided to help him by creating an Instagram Bot.\n",
    "You need to create different functions for each task."
   ]
  },
  {
   "cell_type": "code",
   "execution_count": 64,
   "metadata": {},
   "outputs": [],
   "source": [
    "from bs4 import BeautifulSoup\n",
    "import time\n",
    "from selenium import webdriver\n",
    "from selenium.webdriver.support.ui import WebDriverWait\n",
    "from selenium.webdriver.support import expected_conditions as EC\n",
    "from selenium.webdriver.common.by import By\n",
    "from selenium.webdriver.common.action_chains import ActionChains\n",
    "from selenium.webdriver.common.keys import Keys\n",
    "\n",
    "my_username = 'SAMPLE USERNAME' # replace this with username\n",
    "password = 'SAMPLE PASSWORD' # replace this with password\n",
    "\n",
    "def login_instagram(usr, pwd):\n",
    "    username_input = driver.find_element_by_name('username')\n",
    "    password_input = driver.find_element_by_name('password')\n",
    "    username_input.send_keys(usr)\n",
    "    password_input.send_keys(pwd)\n",
    "    password_input.submit()\n",
    "    try:\n",
    "        wait = WebDriverWait(driver, 10)\n",
    "        wait.until(EC.presence_of_element_located((By.XPATH, \"//div[@role = 'dialog']\")))\n",
    "        dismiss_notification()\n",
    "    except:\n",
    "        pass\n",
    "    \n",
    "def search_insta(search_term):\n",
    "    #clear search field\n",
    "    wait = WebDriverWait(driver, 10)\n",
    "    search_input = wait.until(EC.presence_of_element_located((By.XPATH, \"//input[@placeholder = 'Search']\")))\n",
    "    search_input.clear()\n",
    "    \n",
    "    search_box_activation = driver.find_element_by_xpath(\"//section//input/following-sibling::div\").click()\n",
    "    search_input.send_keys(search_term)\n",
    "    list_of_profiles = wait.until(EC.presence_of_all_elements_located((By.XPATH, \"//section//input/parent::*/div/div/div/a\")))\n",
    "    time.sleep(2)\n",
    "    return list_of_profiles\n",
    "\n",
    "def close_search_field():\n",
    "    driver.find_element_by_class_name(\"coreSpriteSearchClear\").click()\n",
    "\n",
    "def dismiss_notification():\n",
    "    driver.find_element_by_xpath(\"//div[@role = 'dialog']//button[last()]\").click()\n",
    "    \n",
    "\n",
    "def get_insta_handle_list(list_of_profiles):\n",
    "    insta_handles = []\n",
    "    for i in list_of_profiles:\n",
    "        d = BeautifulSoup(i.get_attribute('innerHTML'), 'html.parser')\n",
    "        name = d.find_all('span')\n",
    "        if(len(name) == 3):\n",
    "            insta_handles.append(name[1].get_text())\n",
    "    return insta_handles\n",
    "\n",
    "def click_on_profile_by_username(list_of_profiles, username):\n",
    "    for i in list_of_profiles:\n",
    "        profile_container = BeautifulSoup(i.get_attribute('innerHTML'), 'html.parser')\n",
    "        spans = profile_container.find_all('span')\n",
    "        if(len(spans) == 3): \n",
    "            if(spans[1].get_text() == username):\n",
    "                i.click()\n",
    "                break;                \n",
    "\n",
    "def follow_handle():\n",
    "    a = driver.find_element_by_xpath(\"//header//section//button\")\n",
    "    btn_text = a.get_attribute('innerHTML')\n",
    "    a.click()\n",
    "        \n",
    "def unfollow_handle():\n",
    "    driver.find_element_by_xpath(\"//header//section//button\").click()\n",
    "    driver.implicitly_wait(2)\n",
    "    btns =  driver.find_elements_by_tag_name(\"button\")\n",
    "    btns[len(btns)-2].click()\n",
    "    \n",
    "def is_follopwing():\n",
    "    a = driver.find_element_by_xpath(\"//header//section//button\")\n",
    "    btn_text = a.get_attribute('innerHTML')\n",
    "    if(btn_text == 'Follow'):\n",
    "        return False\n",
    "    else:\n",
    "        return True\n",
    "        \n",
    "def toggle_like_btn():\n",
    "    wait = WebDriverWait(driver, 10)\n",
    "    btn = wait.until(EC.presence_of_element_located((By.XPATH, \"//div[@role = 'dialog']/article//section//button\")))\n",
    "    btn.click()\n",
    "\n",
    "\n",
    "def go_to_next_post():\n",
    "    btn = driver.find_element_by_class_name(\"coreSpriteRightPaginationArrow\")\n",
    "    btn.click()\n",
    "    \n",
    "def go_to_prev_post():\n",
    "    btn = driver.find_element_by_class_name(\"coreSpriteLeftPaginationArrow\")\n",
    "    btn.click()\n",
    "    \n",
    "def is_post_liekd():\n",
    "    wait = WebDriverWait(driver, 10)\n",
    "    like = wait.until(EC.presence_of_element_located((By.XPATH, \"//div[@role = 'dialog']/article//section//button/span\")))\n",
    "    like_txt = like.get_attribute('aria-label')\n",
    "    if(like_txt == 'Like'):\n",
    "        return False\n",
    "    else:\n",
    "        return True\n",
    "\n",
    "def click_on_latest_post():\n",
    "    driver.find_element_by_xpath(\"//article//a\").click()\n",
    "    \n",
    "    \n",
    "def is_current_page(usrname):\n",
    "    try:\n",
    "        insta_handle_heading = driver.find_element_by_tag_name(\"h1\")\n",
    "        if(insta_handle_heading.get_attribute('innerHTML') == usrname):\n",
    "            return True\n",
    "        else:\n",
    "            return False\n",
    "    except:\n",
    "        return False\n",
    "def close_post():\n",
    "    btns = driver.find_elements_by_xpath(\"//div[@role = 'dialog']//button\")\n",
    "    btns[len(btns) - 2].click()\n",
    "\n",
    "def go_to_my_profile(username):\n",
    "    link = '/' + username + '/'\n",
    "    driver.find_element_by_xpath(\"//a[@href = '\" + link + \"']\").click()\n",
    "    wait = WebDriverWait(driver, 10)\n",
    "    wait.until(EC.text_to_be_present_in_element((By.TAG_NAME, \"h1\"), username))\n",
    "\n",
    "\n",
    "def get_followers(n):\n",
    "    driver.find_element_by_partial_link_text('followers').click()\n",
    "    time.sleep(3)\n",
    "    actions = ActionChains(driver)\n",
    "    \n",
    "    while(True):\n",
    "        wait = WebDriverWait(driver, 10)\n",
    "        modal_body = wait.until(EC.presence_of_element_located((By.XPATH, \"//div[@role = 'dialog']/div[2]\")))\n",
    "        actions.move_to_element_with_offset(modal_body, 0, 0)\n",
    "        actions.click()\n",
    "        actions.perform()\n",
    "        \n",
    "        actions.send_keys(Keys.SPACE)\n",
    "        followers_list = wait.until(EC.presence_of_all_elements_located((By.XPATH, \"//div[@role = 'dialog']//ul/div/li\")))\n",
    "        if(len(followers_list) >= n):\n",
    "            break\n",
    "            \n",
    "    followers_list = wait.until(EC.presence_of_all_elements_located((By.XPATH, \"//div[@role = 'dialog']//ul/div/li\")))\n",
    "    return followers_list[0:n]\n",
    "\n",
    "def get_username_of_followers(followers_list):\n",
    "    followers_usernames = []\n",
    "    for i in followers_list:\n",
    "        d = BeautifulSoup(i.get_attribute('innerHTML'), 'html.parser')\n",
    "        username = d.a.attrs['href'].split(\"/\")[1]    \n",
    "        followers_usernames.append(username)\n",
    "    return followers_usernames\n",
    "\n",
    "\n",
    "def close_followers_dialog():\n",
    "    driver.find_element_by_xpath(\"//div[@role = 'dialog']//button\").click()\n",
    "\n",
    "def is_there_story():\n",
    "    try:\n",
    "        btn = driver.find_element_by_xpath(\"//header//div[@role = 'button']\")\n",
    "        b = BeautifulSoup(btn.get_attribute('outerHTML'), 'html.parser')\n",
    "        if(b.div.attrs['class'][1] == ''):\n",
    "            return False\n",
    "        return True\n",
    "    except:\n",
    "        return False\n",
    "\n",
    "def click_on_story():\n",
    "     driver.find_element_by_xpath(\"//header//span[@role = 'link']/img\").click() \n",
    "\n",
    "def get_number_of_followers():\n",
    "    a = driver.find_element_by_partial_link_text('followers')\n",
    "    n = BeautifulSoup(a.get_attribute('innerHTML'), 'html.parser').span.attrs['title']\n",
    "    return int(\"\".join(n.split(',')))\n",
    "\n",
    "def story_seen():\n",
    "    canvas = driver.find_element_by_tag_name(\"canvas\")\n",
    "    c = BeautifulSoup(canvas.get_attribute('outerHTML'), 'html.parser')\n",
    "    h = c.canvas.attrs['height']\n",
    "    w = c.canvas.attrs['width']\n",
    "    if(h == '182' or h == '336'):\n",
    "        return False\n",
    "    else:\n",
    "        return True\n",
    "\n",
    "def go_to_page(username):\n",
    "    if(not is_current_page(username)):\n",
    "        tag_list = search_insta(username)\n",
    "        click_on_profile_by_username(tag_list, username)\n",
    "        \n",
    "    wait = WebDriverWait(driver, 20)\n",
    "    wait.until(EC.text_to_be_present_in_element((By.TAG_NAME, \"h1\"), username))\n",
    "    \n",
    "def wait_for_post_to_load():\n",
    "    try:\n",
    "        wait = WebDriverWait(driver, 10)\n",
    "        wait.until(EC.presence_of_element_located((By.TAG_NAME, \"h2\")))\n",
    "    except:\n",
    "        print(\"post could not load\")\n"
   ]
  },
  {
   "cell_type": "code",
   "execution_count": 4,
   "metadata": {},
   "outputs": [],
   "source": [
    "# replace executable_path with your web driver locationfor chrome\n",
    "driver = webdriver.Chrome(executable_path = '/Users/smriti/Downloads/chromedriver')\n",
    "driver.get('https://www.instagram.com/accounts/login/?hl=en')"
   ]
  },
  {
   "cell_type": "markdown",
   "metadata": {},
   "source": [
    "### 1.  Login to your Instagram Handle Submit with sample username and password"
   ]
  },
  {
   "cell_type": "code",
   "execution_count": 7,
   "metadata": {},
   "outputs": [],
   "source": [
    "login_instagram(my_username, password)"
   ]
  },
  {
   "cell_type": "markdown",
   "metadata": {},
   "source": [
    "### 2. Type for “food” in search bar and print all the names of the Instagram Handles that are displayed in list after typing “food”\n",
    "Note : Make sure to avoid printing hashtags"
   ]
  },
  {
   "cell_type": "code",
   "execution_count": 66,
   "metadata": {},
   "outputs": [
    {
     "name": "stdout",
     "output_type": "stream",
     "text": [
      "foodtalkindia\n",
      "foodie_incarnate\n",
      "food_lunatic\n",
      "foodelhi\n",
      "foodbloggerai\n",
      "foodys\n",
      "food\n",
      "foodofmumbai\n",
      "foodwithzen\n",
      "pune_food_blogger\n",
      "dilsefoodie\n",
      "foodvbae\n",
      "hangouts.co.in\n",
      "foodiebaniya\n",
      "loorifoodblog\n",
      "foodiesince96\n",
      "food_shuffles\n",
      "foodiecouple_parvan\n",
      "thepunefoodie\n",
      "foodninjaken\n",
      "foodieinboots\n",
      "foodiescutie\n",
      "foodgasms_over_orgasms\n",
      "food_affairs_bangalore\n",
      "foodlab121\n",
      "foodiez_choice\n",
      "the_dining_chennai\n",
      "forkmeetsfood\n",
      "food_engineering_\n",
      "non_veg_food\n",
      "foodieshe\n",
      "foodprowl\n",
      "foodyfetish\n",
      "scootywalifoodie\n",
      "thegutlessfoodie\n",
      "foodmaniacindia\n",
      "beautifulfoodie\n",
      "foodnetwork\n",
      "foodofchennai\n",
      "dillifoodies\n",
      "the_foodie_bae\n",
      "thecrazyindianfoodie\n",
      "searchingsamayal_foodie\n",
      "karanfoodfanatic\n",
      "foodie.quinnbae\n",
      "foodcomics_\n",
      "buzzfeedfood\n",
      "foodies.lisa\n",
      "mumbaifoodie\n",
      "glassofwineforme\n",
      "food_love_foodie\n",
      "food.hangovers\n",
      "foodandi.happilyforever\n",
      "thegreatindianfoodie\n",
      "thisisinsiderfood\n",
      "foodonthefeed\n",
      "foodwaysurferofficial\n",
      "foodddd_is_bae\n",
      "foodstagram_bangladesh\n",
      "foodconnectindia\n",
      "algifari_foodie\n",
      "love_food_extra\n",
      "tinta_fooddiaries\n",
      "foodierupal\n",
      "foodkars\n",
      "foodandwine\n",
      "foodography____\n",
      "the_foodie_dad\n",
      "foodfoodtv\n",
      "hungryhugh\n",
      "delhifoodcrush\n",
      "how_i_met_your_food\n",
      "delhifoodwalks\n",
      "hot_for_food\n",
      "doonfoodandfrolic\n",
      "food._.stories\n",
      "foodpanda_talks\n",
      "food_fanatic_me\n",
      "alena_golden\n",
      "iamdatingfood\n",
      "buzzforfood\n",
      "foodfashionparty\n",
      "foodiewithluv\n",
      "food_hyped\n",
      "dailyfoodfeed\n",
      "foodtravelstories\n",
      "food__junction\n",
      "thisisdelhi\n"
     ]
    }
   ],
   "source": [
    "food_list = search_insta('food')\n",
    "food_insta_handles = get_insta_handle_list(food_list)\n",
    "for i in food_insta_handles:\n",
    "    print(i)\n",
    "close_search_field()"
   ]
  },
  {
   "cell_type": "markdown",
   "metadata": {},
   "source": [
    "### 3. Searching and Opening a profile using Open profile of “So Delhi” "
   ]
  },
  {
   "cell_type": "code",
   "execution_count": 9,
   "metadata": {},
   "outputs": [],
   "source": [
    "go_to_page('sodelhi')"
   ]
  },
  {
   "cell_type": "markdown",
   "metadata": {},
   "source": [
    "### 4. Follow/Unfollow given handle - "
   ]
  },
  {
   "cell_type": "markdown",
   "metadata": {},
   "source": [
    "#### 4.1 Open the Instagram Handle of “So Delhi”"
   ]
  },
  {
   "cell_type": "code",
   "execution_count": 10,
   "metadata": {},
   "outputs": [],
   "source": [
    "go_to_page('sodelhi')"
   ]
  },
  {
   "cell_type": "markdown",
   "metadata": {},
   "source": [
    "#### 4.2 Start following it. Print a message if you are already following"
   ]
  },
  {
   "cell_type": "code",
   "execution_count": 11,
   "metadata": {},
   "outputs": [],
   "source": [
    "if(is_follopwing()):\n",
    "    print(\"Following\")\n",
    "else:\n",
    "    follow_handle()"
   ]
  },
  {
   "cell_type": "markdown",
   "metadata": {},
   "source": [
    "#### 4.3 After following, unfollow the instagram handle. Print a message if you have already unfollowed."
   ]
  },
  {
   "cell_type": "code",
   "execution_count": 12,
   "metadata": {},
   "outputs": [],
   "source": [
    "if(not is_follopwing()):\n",
    "    print(\"Not Following\")\n",
    "else:\n",
    "    unfollow_handle()"
   ]
  },
  {
   "cell_type": "markdown",
   "metadata": {},
   "source": [
    "### 5. Like/Unlike posts"
   ]
  },
  {
   "cell_type": "markdown",
   "metadata": {},
   "source": [
    "#### 5.1 Liking the top 30 posts of the ‘dilsefoodie'. Print message if you have already liked it."
   ]
  },
  {
   "cell_type": "code",
   "execution_count": 37,
   "metadata": {},
   "outputs": [],
   "source": [
    "go_to_page('dilsefoodie')\n",
    "click_on_latest_post()\n",
    "for i in range(0,30):\n",
    "    if(is_post_liekd()):\n",
    "        print('Already Liked')\n",
    "        go_to_next_post()\n",
    "    else:\n",
    "        toggle_like_btn()\n",
    "        go_to_next_post()\n",
    "    wait_for_post_to_load()\n",
    "    \n",
    "close_post()"
   ]
  },
  {
   "cell_type": "markdown",
   "metadata": {},
   "source": [
    "#### 5.2 Unliking the top 30 posts of the ‘dilsefoodie’. Print message if you have already unliked it."
   ]
  },
  {
   "cell_type": "code",
   "execution_count": 38,
   "metadata": {},
   "outputs": [],
   "source": [
    "# sometimes it doesn't unlike so many posts like this. \n",
    "# Instagram blocks the account and suspends the unlike option for couple of hours.\n",
    "# this code is working otherwise\n",
    "\n",
    "go_to_page('dilsefoodie')\n",
    "\n",
    "click_on_latest_post()\n",
    "for i in range(0,30):\n",
    "    if(not is_post_liekd()):\n",
    "        print('Not Liked')\n",
    "        go_to_next_post()\n",
    "    else:\n",
    "        toggle_like_btn()\n",
    "        go_to_next_post()\n",
    "    wait_for_post_to_load\n",
    "close_post()"
   ]
  },
  {
   "cell_type": "markdown",
   "metadata": {},
   "source": [
    "### 6 Extract list of followers"
   ]
  },
  {
   "cell_type": "markdown",
   "metadata": {},
   "source": [
    "#### 6.1 Extract the usernames of the first 500 followers of ‘foodtalkindia’ and ‘sodelhi’."
   ]
  },
  {
   "cell_type": "code",
   "execution_count": 52,
   "metadata": {},
   "outputs": [
    {
     "name": "stdout",
     "output_type": "stream",
     "text": [
      "aryabhawanlalghati, _food.before_anyone_else, alkaaghav, ishani_594, clothesline12, torche_hayat, rinu_anand_7996, aayushkumar4984, flavoursby.vini, dgautam_02, ayaanjackerraj, ba___ris__te_sqr, dhruv__pawar, yashwin.india, sarathbabu24, umar_pathan1.4.3, rajendrashah39, sukhi.rai.739326, explore.beautyof.india, soumyaranjan.0, taware299, ihaskillacademyrohini, livinglifestories, ll_win, koushik.n.315, stomach_ek, gourmet_greens_and_beans, vjssidhu33, love_yourself_obsessed, vedichavan, tiktokindia8243, arbaazs333, 0arif.khan, bsunil2, shaikh_aslan_bhai, labelpratimachandraul_, namrata_umang, tanu_7p72, _moonaholic_, khauthakur, pawan.sarpal.58, swapnaz_986, thehashtagaffair, jaspreet_2610, ankitasahu34, fullhope_fullscope, eufloriatheflowerlounge, 99.58561811, brajpal_charan_ambatri, rajasree_mandava, bigbabafoodie, shhaazaa, rider_k.a.r.a.n, ashashaik_6, harsh_vardhan4484, i_rajkadam12, vignesh_vishal12, hussain_xoz, richaarora._, storky_444, dipikasinghpadukone, itsinstaindra, smritiaggrwal, pullmannewdelhiaerocity, shreyas.doshi.54, the_scintillating_eyes, honey_bee403, alok_bantai, __miss.desertice, vrittimordani, vishva_vaghani14, _vivek_k1197, wandertocapture, pinkupink475, zoha_imran_2215, mealontable, thakur0895, _headover_meals, breakbrunchdine, the_foodietroupe, omg_team_786, choudhary.sadiq, shanukhan7655, kitkatloverlucky, payalpawar29, goel8702, prithvirajbhatt, earnneat, chefkamalc, sahumanisha456, sunnymeghani_official, jalachari84, delicious_delic, arkephotos, dilip_kumawat7300, ineeti_kaur, _aarynn, hemangi2962, archisha.dutta.6, pushan.aggarwal, jayantika.phule, sahab88819, abhishekseky, arkhan4212, sanskari_banda_piyush, phoenix._.ihm, didyousay_food, epicsum, kawsarkhondekar, thebbqcompany_noida, theconfectionstory, nobitanani143, pab_jjk, devuz1, khooshbut9, mr_sanaul, ankur.gupta, colorpalette_girlradhaa, katuri_supraja, spiceybowl, krishnadevan_, wineandvittless, khadad_diaries, kinoshilpa602, swee457, shubham_more_photography, say._.cheeese, the_munchybrisk, rinku.robert.71, pragyaa27, ver.francis, paglujex, pri_5656, pulkit.sekhri, radhikaksodha, shraddha_s_angle, varsha_kenne, sharvishtha, babulsofficial, riyatiwari743, cgvlogsbycalvin_, bhattacharya.biswadeep, mygsdservice, rib._.cage, tales_n_tastes, roma_swar, sunny_kumar16, hufrrishb, ankiblog, jeow089, hashtagshailifoodie, savitha_kumar03, khusbu_kejriwal, shyamkoranga, jaypalsinh__333, sindhuarun19, foodinstigator, kusum_shree_singh, basavaratna_akshay, dhimahi1012, astghj456, archanasomasekharan1995, foodvivers, nupursin, ayushisanghavi, always_foodiee, muhammedmudassirahmed, lone_wolvez, vandanathacker, lensnstory, roopa_rampersad, tilted_blues, __consciousness____, priteshsavla91, love__lucky_____, salh_sdf, mr.anjar.sayyed.3, barnitahaldar, youzersif23, mohd_sohid_qureshi, dbg.shivani, allia7867, nahi_naa, parnoyd_androyd, ts98647, salvatore_girl_, maahim1515, prathikhsha_, pennina_kale, fatty_foodies, foodhistorian_, dimpy190, vamsijajula, shivu_banna_7484, ak._.designer, indian_travelography, mohammadisaqh, muhammad_asif_08, sukanyaananth, dimpleshetty13, vinishatauro, 2774_mohammed, _rupesh.268, ameen__ak, albert_benza, mahalucky_mahalucky, harinisomething, _shrishti_bajpai_, monu_.ashrafi, foodzillagurgaon, abhishek_2494, aditi.here_, nainamalvade, belieber2126, alfaizan_international, food_freakzzz, _itsurboyaadarsh_18.03, bhukkadbynature, the.de.tour, zubernm, riyabaid, myintzuyi.fashiondesigner, ms_nareshkumaran_05, thebigbhookad, kshatriya_jd, kangscookingcorner, rebel_chandu_s, parth.sharma8, sanj_0205, samirabilal_, sairakhan5042, adil_pathan_8, masterslave2, abhishek_verma_frost, anand_toshniwal_, mohantylizi, manim9416, bavanasanghvi, sandeepgupta77180, praveenruhella, prajaynarsana, mumtoz574, heyyy__bub__, naveenhitman007, herambprabhudesai, gunjan._29, kiaimshar, rami_148, jangle.shubhangi, vickys.kitchen.kharghar, bawarchicucina, mr_inocent_._, ___creative_creature___, forkandspoon4, justabitofanexplorer, arifaemo, foodie__men, everything_delectable, samridhi__agarwal, cooldude6755, suhas_shinde, sahejad.dudhara, prownie_, bunkebabcompany, mansid9, abhisheksingh88041, ritwik6489, yukta.sethi, prags99, dhiraj.dargan, radissonmumbaiandherimidc, merry_in_art, sachin_yuva, thefoodiesnetworks, dhuripriyanka58, boby_sid_786, nikie.thakkar, suuuuuhaniii, rijha_flowers, statusfinedine_vadodara, abhaya_82, maverick_monica, rachnakcp, priyankasharma5421, holadelhi, tushar.tathe.148, guzmanodin7, heena.mnsr30, i_am_shiddu, h.u.s.siii, unstoppablebull, foodforu.in, rajatpurkait4, abhiinnav_yadav, __models__over, otherclvb, jaysonsumacot, restaurant.trevi.linz, foodmilitia, the_dark_prince_828o, shweenyfication, sonam0408, the_chocolate_house_t_c_h, handluggageonlyy, ankay.design, rao_rahul_ydv___, dararawr, houseofmeals_, hola_comida_, mr_ck_92, sumanjadhav21, khodavishu, vaishnavijadeja_15, rupkatha_sarkar, vickykoti, maryannejohn0208, monikashah823, soradihimangi, t_d_m0, indianbackpackersstory, hotbread_ranchi, khanmaria11, pratikyadav58, ritikaa_77, tangy.tucker, tarik___77, seekvalue, sakkshi_06, anmol_sharma_modeller, sham_rada_, psinghoff332, jimit_jadawala, ketli_amruttulya, sahithicheemal, urstrulyphanitata, i.am.rejan, drmmss2020, click__and__eat, salammadarsa, amandeepkaur8556, iam_sunil96, kaushikshashi233, zeediy, tha_moin_khan, shraddha__2001, _krip.lani_, mad.for.food6, sheenunoida, mohsinjawahar, aasthaalmal, salama__basheer, pinksugarindia, 46_ferri_, urvashisaxena, sau_jain_01, kunj_karia, iam_shibu__, thevrenaissance, loverand.co, pinalmorzaria, tanuvibes, oriflame_makeup_health, devenghavri, nuskhaspicewithasecret, ismitab, illicit_happiness, _ambrosiak, sakshijiwarajka, dattathreya02, anjana_sera, radhikagandhi1699, sevdaekerkarasu, mahmud.abdelghany.9, inamdarsumaiyasuhail, 0nine87, amrat_virk_, sweet_alchemy_, _talkingclicks, dsrrrajput, aditi.mundra, bhagyashreesolanki7, giftbro__brandingpro, piquant_pixels, salonid961, bhabhi183, _._.unknown._.me._._, makkar1987, hotelgalaxyinn1, __truthful_liar, funny__videos007, justhereforgoodfood, crazy.craving, mukul_garg96, incredible_edibles_uk, itz__v__i__v__e__k__4451, foodieeloves_, foodstagram_bloggers, meghashah844, theroyalkitchenbali, fortico_india, _nomadicfoodiee_, manish.agarwal_13, renaye_9, parineeta.shubhkiran, iam_amrutashankar, cuisine_cravings, dineshbajaj009, somyaa.jainn, mr.rahul.thakur143, nainaa_arora, carnaticcafeindia, foodie_dk, 93me522, anup9083, 3bagpack, divya_divyashree__, hiba.zaidi.562, kat_diaries, myhomebistro.shikha, beck_aj, neeru.arora.18041092, ariettakr, akhi_sravs, aveiro5122, allisonlane2, chandiobushra, farrokhborhan, magrita69, rahullllllllll._, bharath_sharma.rd, mikle_run, v_i_n_a_y._sai, flower962019, d_spam_k, debz_dorae_mon, aftab_alam_rrr, myralynn_1977, ramraibari, the_hodophile.homechef, desidiaries_delhi, mr_royal_dau_6139, vidhidabla, susmitamondal55, sourav.chef, pooja186897, ilaria.amor, theturningcarousel, coolest_cute_b0y, rsy4624, lalitha_n15, arora_satyam, postcampaign.io, jaggi_fmimf, webbasol, harshbhagwani, na_granicy_smaku, nikhilmenon, honk118, lohitha_gondesi, thickmagic_ashokamarg, gmanlegend_2803, _asquared2, jayeshvidiya506, varsha.3009, unexplored.lust, __veer_raj_, _mr_knowhere_, __shubh__01, meow6315, nits_97, sufeeslounge, m_r_arman_14, dhan_baba_nanak_ji, nawab__123, rituparnaadak, diehardeaters, bilal_arab22, archana.ponnu, preetshah2811, shivaniporwal1994, komalsolanki186, chandnianzar, bzeefoodies, _mr.checkmate, psingale, varunstacs123, latha_narender, shifashazu, dhara_vasani, cuisinesandtours, nikitenko9245, tabasum.shaikh.5815, jeffuu_jeff, rajenderpanwar, entairov, mr_drummer_786, vikassathe18, nicomigliani, priyanka.bansari, neilgandhi2812, "
     ]
    }
   ],
   "source": [
    "go_to_page('foodtalkindia')\n",
    "\n",
    "foodtalkindia_followers_list = get_followers(500)\n",
    "foodtalkindia_followers_usernames = get_username_of_followers(foodtalkindia_followers_list)\n",
    "for insta_handle in foodtalkindia_followers_usernames:\n",
    "    print(insta_handle, end = \", \")\n",
    "\n",
    "\n",
    "my_following_from_foodtalkindia = []\n",
    "for i in foodtalkindia_followers_list:\n",
    "    d = BeautifulSoup(i.get_attribute('innerHTML'), 'html.parser')\n",
    "    if(d.button.text == 'Following'):\n",
    "        username = d.a.attrs['href'].split(\"/\")[1]\n",
    "        my_following_from_foodtalkindia.append(username)\n",
    "        \n",
    "close_followers_dialog()\n",
    "# the list below contains 500 followers separated by ','"
   ]
  },
  {
   "cell_type": "code",
   "execution_count": 56,
   "metadata": {},
   "outputs": [
    {
     "name": "stdout",
     "output_type": "stream",
     "text": [
      "pariharakansha, azfarsyed, swagvihari, dandeli_holiday_booking, gildedblues, love_vashikaran_specialist__13, tanyatyagi23, dabbawalii, aryabhawanlalghati, we_love_jassi, shaanmalik9, im_.arti, sanvajabbasi, lasya.pamidi, saumya_jagga, sahilbishtt, sennakurian, salmankuan735, harman_59_, singnishant, vineet_.chaudhary, amayra4107, ashishgupta21, theshepherdtrails, astronomy_.domine, shraddhadhiman, chetan_yoyo, beauty_0920, deepaksherawat58, lovebajwa54, sudashnamohanty, deepesh014, shruti_49, sakshisuhag001, lopamudraboruah, rikuntyo1984, deep.ak862, srishti_rai._, madhavbudhiraja, unstore.in, mansii.tyagi, natikshah_official, monica.kadyan1, oh.so_afaf, ankitasharma4413, rohit_agarwal28, yo_yo__jaatsaab1122, _ankushbajaj, manvithakur1998, grubcrave, sneha626, yashikagarg99, __.mariafatima.__, rahul_clc, newtothecesspool, yanit7456, jaykiran_, ankit.patsariya, eshan_rohit, harimohanty, __photos.hub__, ganshyamkumar9135, gaganshukla91, daymalisha, guptashradha997, rizvidivya, akansha_munjal, anuja.scorp26, utsavbatra5, parulcop, fromposetocloth, ankiiit_07, _rishabhsehgal_, sanjay.patsariya.7, dipankbadhwar, _.clouds_in_my_coffee._, fa.izan8021, kathait_priyanshi, zeinabbachani, akshay3462kumar, robin.chaudhary91, justloveyoursmile, muskaaan.singhal, simar_shooter, _garimasengar_, rafia.arif.75, shivani_duggal_, exolindia100, ashathakur.a, tanishach142018, __meandmine, rohan.saroha, anshika_anku20, its__himani, arushi.99, nanchiesharma10, satendra.rai.39904, suman.bhatia.1460, livinglifestories, beenaaaa_joshi, saini99anjali, ziya_gg, supernova_esc, theycallmekriti__, gauravrocks513, mayanksharma44, stars_n_sparkle, vijay_maurya98, sangita_chdry, amreenaltaf786, ragib.live2, diksha.kashyapp, vikash76000, tarun2688, ankitsagar_chaudhary, pinkzway, bangalorefoodbomb, nishaa_sharmaa, passionate__girl_shrutika, ritu.gupta._, rajaram_nayak, vandana_jajoo, _asavari__, barbie.nigam, nehaa_424, mongolian_gal_amru, niveditapandey03, yagyik.k, ashish.awasthi.41094, pranjals905, visuals_of_my_life, vaibhaw1998, bhatia_meenal, apoorvavasishat, shreyapandey13, saxenaakshay, itskittynails, tanishkachhetri, kamalvasdev1975, fashionably_foody, himani11420, avermaa_, vikal._gurjar_agrolla, sahiba7824, imbinni, kunalgoyal25, vinodchavan88139, mahisharma21_, amit_sharma32, dishamalhotraa, 1995gagan, kakroliyaanshu_albadi_jaat, _aartichauhan, neets_sunshine, tilakamyra, mammaamamamamaa, travellingsmoj, arunsingh583, gaurav_ktc18, abhilashashuklaa, sandipgarg4, thegentlemen_kitchen, _anshvya_, naveensharma0007.ns, kes_7241, gsmn159, uttarakhandtheheaven, kl.3026, khapang_debbarma_, shiqiaotetsu, neekii.r, big_chance_here_323, ar_handa, swapnaz_986, snigdha20.06, aanchalmodani, millennialsibuddhi, sayyid.ali007, bhumisingh606, 2004__parin, shabnamhayat20, manjuravi23, tanvisikka06, imagebunch, lavikanayyar, _______stubborn__, fullhope_fullscope, shweta_gbpec, sarah_vandb, aayushmittall, rtwk_, pooja_brawad, iklakhsiddiqui, eufloriatheflowerlounge, purnima_304, aemyra_amrish, parentpal.in, akanksha0211, jerry_shrestha2012, yichin_woe, dolma.kelsang, arushiiigupta, shhaazaa, shivkumar_love, aminah_maktoum, faisalabbas176, nasreenbano65, theiklakshyashow, sukanya_gupta, aagman_behl, lahari.sri, donpablo647, sarita.makhija58, pooja_raghuvanshi_05, akhondi2118n, sruthyboopathy, honeysingh9832, singhsaheb_08538, online.puri, cray_palm, shivam_fitness, kiratkaur52, deepak_kapoor123, rehan.khan3148, rajiv.bhatia.9085, anuswati, sky_galll, 2302mohini, shivam.4454, gunjansgupta, geeky_curious, renemasoraya, priyanka02222, akshaykumar9789, that_indian_appeal, anugupta8036, ruthjoyful, trtatarvr, arhankhan4208, aakankshapathak09, roshni8820, thecuteartist_, __._a_n_y_a_.__, vishal11110, sahil_733, anujgosalia, anushasamant, priyasharma32, fiftytastesoffood, ha.roon3449, marmita01fit, omnommomnom, akshay_13_5, naman.agarwal22, shubhangitiwarii, samkhan9484, amanmahendru, tishaarora3016, hirdey_90, sc1822013, mrfarhan76, arpit.sila, yashita_arora_, _mayurii._, ss_magical_world, ratnesh_michigan, dsrsims2018, arifkhan111111, sureshlongani, furandtails.in, piya_jaiswal_08, saaransh_goswami, tigga.priyanka, khanam__meenaz, _habibi__07, jaykay.pvt, sinister.sloth6, rekharekha831, editingearths, aina_asif, aavishbarapatre, manojrawat301294, lost_guy_journey, mr._urban_pendu, devender5195, maansii124, kritika3187, diplomatic_soul, era_jain, tigers.khan.16100, voiceofframe, pratyush_ag, shubhamkushwaha233, purututeja, prernasharma55, nitin_pal16, the_technical_glitch, entla_16, riyansh.riyansh.92775, amandeep_singh215, m_o_v_i_es, foodlovem, nikitasingh.19, rahul4788roy, gooner_akshay, resplendent__008, preetisingh__12, bengali_sweethouse.bengalimkt, anitasingh41, sameer_edits__, _29_11_2003_, _day_dreamer_0133_, manish.gaba, babitamorwal05, swarjain_04, varunjolly_2018, mdsahilmdumar, mahendarsinghrajag98765, guptahitendra, mohit997140, simrangambhir_, ruchigoyal__, sky.sumedha, imatulpatidar, akritychaturvedi, official_aman__singh, vijaypal2306, khannamanni, rohanchaddha99, nidaansari7584, surojitdhara7404, pradeepsingh1858, leooo1212, mnavadoot, vehlishanky, geetika_gautam, aaasshhiiii.pvt, ssnehal_18, malkadan98, sattu_suzz, maggonneha, shivangi_singh__02, iambhawna_, shuchita.sharma.77, __somyasharma, s__ruhi, _shinchan.12, shilpaawww, theycallme_dollar, sunny_kumar8592, mk8044426, mitali_motiani, tanushreearora01, de.epika7283, radhikaa_v, khyatishekhar, 2415_mahi, himanshugupta8975, kanika0207, rk__photography____, meghana_pj, aradhikakaushik, vermalakshya9573, indiaztrends, rajeshsharma760, devvart_lohmod, its_dheeraj_aswal_786, be_7831, siezing_the_day, vallabhchadha, shekharchauhan7, rashidalvi9997, photographyon_soul, king__dharmesh__614, meenarathore216, aadilirfan3, khushali02051996, thakurrohit661, i_am_anjaliangie, _pratyushaa, chicktales_, anmol_agarwal12, shots.by.alan, adv_nadia_khan, an.originatr, aasthasurana, gualabhusain, sansjain, jha_daughter, richaarora._, pragyasharmaofficial, prakhar_chauhan, rohan_khanna_07, riyapathak68, its_siddharth_singh, aashi_gupta177, aryahi___, rajwadirasoise, rita.kothari.798, preety2680, magi_370, bhookhi_gang, pun_singh83, ms.gambhirr, beskocoffee, himz_saraswat, s.a.h.i.l__14, mahinoor_hussain, kwstakis993, punam_chayanika, govind_karthik_2365, rohitpatel4647, smriti.sikri, rvairagi, akshay.sainias, arya4578, nadirsultan59, shradha.uni, thebbqcompany_noida, _kunaljain_, kriti_gupta6, nehag731, 2kmohot, all_about_taste_culture, shivaay884, shivanirana7009, leenalalit11, mayankmahajan1, imbhukkkad_girl, iamssiddiqui, shivani_mittal10, akamustafa_, shahris_milan_, ar_shu___ar_shad, adarshpalbhogal, sunilanu6, _kirti_ahnu_, iamsanajamal, soutrik___, itspayal786, shivamrajput6423, chaiiwaiiipvt, priyonka001, mumbaibloggers_datingfood, hardikg690, fauz.iya_m, yagyeshsharma8, rosy_malhotra_, amitkumarpandey0926, iamyashkohli1999, kanishk._.goyal, parulsamal, gurjas.singh29, krishm000, shanishanikumarsk2536091, crunk_flaneur, hangout_canwe, astrologer_animka, vanshika.l, gupta_devarshi, shrutibhatiaa, meekaran, rahulhela323, manikaymehta_3, __.maggiieee.__, abhay_bindlish, atimaabh, beauty_babe_0824, dillilight, swapnil8074, ruksheer_xo97, shormee09, shivangisarkar, nizamuddin.shaikh.09162, pavleenkaur121, sanskar_sogani, mahinder5648, dimmy_chongloi, me_mr_ansari, himanshu.aggarwal.0909, agarwalgeetika, jeevesh_kaushik_, swati1989dwivedi, tatundria, travel_bitess, shubhamjha008, rupal0031, saahil_singha, manpreetsingh2390, ianubharajput, rushdanuri, devesh_upadhyay, divanshiiiiiii, ti.ger1193, umar_gazi_007, archu6097, naveen.singh__, ekta_swarup, pri_5656, deepak5480sharma, "
     ]
    }
   ],
   "source": [
    "go_to_page('sodelhi')\n",
    "\n",
    "sodelhi_followers_list = get_followers(500)\n",
    "sodelhi_followers_usernames = get_username_of_followers(sodelhi_followers_list)\n",
    "for insta_handle in sodelhi_followers_usernames:\n",
    "    print(insta_handle, end = \", \")\n",
    "\n",
    "close_followers_dialog()\n",
    "# the list below contains 500 followers separated by ','"
   ]
  },
  {
   "cell_type": "markdown",
   "metadata": {},
   "source": [
    "#### 6.2 Now print all the followers of “foodtalkindia” that you are following but those who don’t follow you."
   ]
  },
  {
   "cell_type": "code",
   "execution_count": 57,
   "metadata": {},
   "outputs": [
    {
     "name": "stdout",
     "output_type": "stream",
     "text": [
      "kangscookingcorner\n"
     ]
    }
   ],
   "source": [
    "go_to_my_profile(my_username)\n",
    "max_followers = get_number_of_followers()\n",
    "my_followers_list = get_followers(max_followers)\n",
    "my_followers_usernames = get_username_of_followers(my_followers_list)\n",
    "\n",
    "for i in my_following_from_foodtalkindia:\n",
    "    if(i not in my_followers_usernames):\n",
    "        print(i)\n",
    "close_followers_dialog()"
   ]
  },
  {
   "cell_type": "markdown",
   "metadata": {},
   "source": [
    "### 7 Check the story of ‘coding.ninjas’. Consider the following Scenarios and print error messages accordingly -\n",
    "- If You have already seen the story.\n",
    "- Or The user has no story.\n",
    "- Or View the story if not yet seen."
   ]
  },
  {
   "cell_type": "code",
   "execution_count": 60,
   "metadata": {},
   "outputs": [
    {
     "name": "stdout",
     "output_type": "stream",
     "text": [
      "Story already seen\n"
     ]
    }
   ],
   "source": [
    "if(not is_current_page('coding.ninjas')):\n",
    "    coding_ninjas_list = search_insta('coding.ninjas')\n",
    "    click_on_profile_by_username(coding_ninjas_list, 'coding.ninjas')\n",
    "\n",
    "wait = WebDriverWait(driver, 10)\n",
    "wait.until(EC.text_to_be_present_in_element((By.TAG_NAME, \"h1\"), 'coding.ninjas'))\n",
    "\n",
    "if(not is_there_story()):\n",
    "    \n",
    "    print(\"Story not found\")\n",
    "elif(story_seen()):\n",
    "    print(\"Story already seen\")\n",
    "else:\n",
    "    click_on_story()"
   ]
  },
  {
   "cell_type": "code",
   "execution_count": null,
   "metadata": {},
   "outputs": [],
   "source": []
  }
 ],
 "metadata": {
  "kernelspec": {
   "display_name": "Python 3",
   "language": "python",
   "name": "python3"
  },
  "language_info": {
   "codemirror_mode": {
    "name": "ipython",
    "version": 3
   },
   "file_extension": ".py",
   "mimetype": "text/x-python",
   "name": "python",
   "nbconvert_exporter": "python",
   "pygments_lexer": "ipython3",
   "version": "3.6.5"
  }
 },
 "nbformat": 4,
 "nbformat_minor": 2
}
